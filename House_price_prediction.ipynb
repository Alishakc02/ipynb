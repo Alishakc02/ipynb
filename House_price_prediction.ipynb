 House Price Prediction System

This project uses Machine Learning to predict the price category (low, medium, high) of a house based on various features 
such as square footage, number of rooms, location attributes, and construction details. It includes data preprocessing,
model training, hyperparameter tuning, model evaluation.

 Features
 Predicts house price category based on 12+ features
 Data cleaning, outlier detection, and feature selection
 Trains and compares Linear Regression, Decision Tree, and Random Forest models
 Hyperparameter tuning with GridSearchCV
 Model evaluation using accuracy, precision, recall, and F1-score
 Model export using joblib

Dataset
Dataset used: data.csv.xls
(Contains house listing data with features like price, sqft, bedrooms, etc.)

 Technologies Used
Python 
Pandas & NumPy
Scikit-learn
Seaborn & Matplotlib
Streamlit
Joblib
