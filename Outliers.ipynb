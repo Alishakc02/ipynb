{
  "nbformat": 4,
  "nbformat_minor": 0,
  "metadata": {
    "colab": {
      "provenance": [],
      "authorship_tag": "ABX9TyMjgGlQw+J+DvDBKbhBICHs",
      "include_colab_link": true
    },
    "kernelspec": {
      "name": "python3",
      "display_name": "Python 3"
    },
    "language_info": {
      "name": "python"
    }
  },
  "cells": [
    {
      "cell_type": "markdown",
      "metadata": {
        "id": "view-in-github",
        "colab_type": "text"
      },
      "source": [
        "<a href=\"https://colab.research.google.com/github/Alishakc02/ipynb/blob/main/Outliers.ipynb\" target=\"_parent\"><img src=\"https://colab.research.google.com/assets/colab-badge.svg\" alt=\"Open In Colab\"/></a>"
      ]
    },
    {
      "cell_type": "code",
      "execution_count": 17,
      "metadata": {
        "id": "jnxbvmROFkPF"
      },
      "outputs": [],
      "source": [
        "import matplotlib.pyplot as plt\n",
        "import numpy as np\n",
        "import seaborn as sns\n",
        "import pandas as pd"
      ]
    },
    {
      "cell_type": "code",
      "source": [
        "from scipy.stats import stats"
      ],
      "metadata": {
        "id": "VMf35SDXFtLr"
      },
      "execution_count": 2,
      "outputs": []
    },
    {
      "cell_type": "code",
      "source": [
        "#Define the data\n",
        "data=[180,\t156,\t9, 176,\t163,\t1827,\t166,\t171]\n"
      ],
      "metadata": {
        "id": "Pwi4scDtFyRY"
      },
      "execution_count": 3,
      "outputs": []
    },
    {
      "cell_type": "markdown",
      "source": [
        "\n",
        "```\n",
        "An outlier is a data point that is significantly different from the rest of the data.\n",
        "\n",
        "It’s either much higher or lower than most of the other values in a dataset.\n",
        "\n",
        "```\n",
        "\n"
      ],
      "metadata": {
        "id": "cPjuI5OSJFgL"
      }
    },
    {
      "cell_type": "code",
      "source": [
        "n=len(data)\n",
        "print(n)#No. of the datsets"
      ],
      "metadata": {
        "colab": {
          "base_uri": "https://localhost:8080/"
        },
        "id": "EWct9w-3F80W",
        "outputId": "1e802862-0261-4284-9387-0bd191cf8234"
      },
      "execution_count": 9,
      "outputs": [
        {
          "output_type": "stream",
          "name": "stdout",
          "text": [
            "8\n"
          ]
        }
      ]
    },
    {
      "cell_type": "code",
      "source": [
        "#Calculate quartiles\n",
        "q1=np.percentile(data,25)\n",
        "median=np.percentile(data,50)\n",
        "q3=np.percentile(data,75)\n",
        "#Inter-quartile range\n",
        "iqr=q3-q1\n",
        "\n",
        "#Displaying the output\n",
        "print(f\"Quartile-1:\",{q1})\n",
        "print(f\"Quartile-2:\",{median})\n",
        "print(f\"Quartile-3:\",{q3})\n",
        "print(f\"Inter-quartile range:\",{iqr})\n"
      ],
      "metadata": {
        "colab": {
          "base_uri": "https://localhost:8080/"
        },
        "id": "xSSehqw3GU52",
        "outputId": "a68e1e88-f60f-4c6f-e212-0a6b2cfe0a53"
      },
      "execution_count": 13,
      "outputs": [
        {
          "output_type": "stream",
          "name": "stdout",
          "text": [
            "Quartile-1: {np.float64(161.25)}\n",
            "Quartile-2: {np.float64(168.5)}\n",
            "Quartile-3: {np.float64(177.0)}\n",
            "Inter-quartile range: {np.float64(15.75)}\n"
          ]
        }
      ]
    },
    {
      "cell_type": "code",
      "source": [
        "#Calculating outliers\n",
        "lower_bound=q1-(1.5*iqr)\n",
        "upper_bound=q3+(1.5*iqr)\n",
        "print(f'Lower bound',{lower_bound})\n",
        "print(f'Upper bound',{upper_bound})"
      ],
      "metadata": {
        "colab": {
          "base_uri": "https://localhost:8080/"
        },
        "id": "He8lqrWVHEZW",
        "outputId": "ec3da66d-bdfc-4282-f848-87a79b45f783"
      },
      "execution_count": 14,
      "outputs": [
        {
          "output_type": "stream",
          "name": "stdout",
          "text": [
            "Lower bound {np.float64(137.625)}\n",
            "Upper bound {np.float64(200.625)}\n"
          ]
        }
      ]
    },
    {
      "cell_type": "code",
      "source": [
        "#Second-Method\n",
        "#Box-plot method\n",
        "# Create a horizontal box plot\n",
        "data=[2,50,43,67,89,98]\n",
        "plt.figure(figsize=(8, 2.5))\n",
        "sns.boxplot(x=data, color='skyblue', orient='h')\n",
        "plt.title(\"Horizontal Box Plot for Outlier Detection\")\n",
        "plt.xlabel(\"Values\")\n",
        "\n",
        "plt.tight_layout()\n",
        "plt.show()"
      ],
      "metadata": {
        "colab": {
          "base_uri": "https://localhost:8080/",
          "height": 257
        },
        "id": "1l-sppgfHduh",
        "outputId": "8d9c6a2e-aa27-406f-f54c-2d09bb414c9c"
      },
      "execution_count": 20,
      "outputs": [
        {
          "output_type": "display_data",
          "data": {
            "text/plain": [
              "<Figure size 800x250 with 1 Axes>"
            ],
            "image/png": "[encoded data removed]"
          },
          "metadata": {}
        }
      ]
    },
    {
      "cell_type": "markdown",
      "source": [
        "\n",
        "\n",
        "```\n",
        "The Z-score tells us how many standard deviations a data point is from the mean.\n",
        "\n",
        "Z= (X-μ)/σ\n",
        "​\n",
        "\n",
        "Where:\n",
        "\n",
        "\n",
        "X = a data point\n",
        "\n",
        "μ = mean of the dataset\n",
        "\n",
        "σ = standard deviation of the dataset\n",
        "```\n",
        "\n"
      ],
      "metadata": {
        "id": "zWnBh16eIwpq"
      }
    },
    {
      "cell_type": "code",
      "source": [
        "#Third-method\n",
        "#Z-score method\n",
        "\n",
        "import numpy as np\n",
        "\n",
        "# Dataset\n",
        "data = [180, 156, 9, 176, 163, 1827, 166, 171]\n",
        "\n",
        "# Convert to numpy array\n",
        "data = np.array(data)\n",
        "\n",
        "# Calculate mean and standard deviation\n",
        "mean = np.mean(data)\n",
        "std = np.std(data)\n",
        "\n",
        "# Calculate Z-scores\n",
        "z_scores = (data - mean) / std\n",
        "\n",
        "# Identify outliers\n",
        "outliers = data[np.abs(z_scores) > 3]\n",
        "\n",
        "# Print results\n",
        "print(\"Mean:\", mean)\n",
        "print(\"Standard Deviation:\", std)\n",
        "print(\"Z-scores:\", z_scores)\n",
        "print(\"Outliers (|Z| > 3):\", outliers)\n"
      ],
      "metadata": {
        "colab": {
          "base_uri": "https://localhost:8080/"
        },
        "id": "kOffsaiaIMKn",
        "outputId": "af1753a8-9c2c-4541-8857-51250e882c8b"
      },
      "execution_count": 21,
      "outputs": [
        {
          "output_type": "stream",
          "name": "stdout",
          "text": [
            "Mean: 356.0\n",
            "Standard Deviation: 558.4800802177281\n",
            "Z-scores: [-0.31514105 -0.35811483 -0.62132923 -0.32230335 -0.34558081  2.63393459\n",
            " -0.34020909 -0.33125622]\n",
            "Outliers (|Z| > 3): []\n"
          ]
        }
      ]
    }
  ]
}