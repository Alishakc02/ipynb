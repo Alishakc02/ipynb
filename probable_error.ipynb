import math
from scipy.stats import pearsonr

# Data
weight = [3.63, 3.02, 3.82, 3.42, 3.59, 2.87, 3.03, 3.46, 3.36, 3.30]
length = [53.1, 49.7, 48.4, 54.2, 54.9, 43.7, 47.2, 45.2, 54.4, 50.4]

# Number of observations
n = len(weight)

# Pearson correlation coefficient
r, p_value = pearsonr(weight, length)

# Correct Probable Error (no sqrt on numerator)
PE = 0.6745 * (1 - r**2) / math.sqrt(n)

# Print results
print(f"Pearson correlation coefficient (r): {r:.4f}")
print(f"P-value: {p_value:.4f}")
print(f"Probable Error (PE): {PE:.4f}")

# Interpret result
if r < PE:
    print("The correlation is not significant.")
elif r > 6 * PE:
    print("The correlation is highly significant.")
else:
    print("The correlation is moderately significant.")
