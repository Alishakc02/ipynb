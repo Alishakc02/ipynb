{
  "nbformat": 4,
  "nbformat_minor": 0,
  "metadata": {
    "colab": {
      "provenance": [],
      "authorship_tag": "ABX9TyNqy5hhWZ3MFLAlhwQ8dw5l",
      "include_colab_link": true
    },
    "kernelspec": {
      "name": "python3",
      "display_name": "Python 3"
    },
    "language_info": {
      "name": "python"
    }
  },
  "cells": [
    {
      "cell_type": "markdown",
      "metadata": {
        "id": "view-in-github",
        "colab_type": "text"
      },
      "source": [
        "<a href=\"https://colab.research.google.com/github/Alishakc02/ipynb/blob/main/Chatbot.ipynb\" target=\"_parent\"><img src=\"https://colab.research.google.com/assets/colab-badge.svg\" alt=\"Open In Colab\"/></a>"
      ]
    },
    {
      "cell_type": "code",
      "source": [
        "!pip install nltk"
      ],
      "metadata": {
        "colab": {
          "base_uri": "https://localhost:8080/"
        },
        "id": "ugPz4jfUWxNO",
        "outputId": "4c719c73-5474-45af-afd4-1df34d7c3c54"
      },
      "execution_count": null,
      "outputs": [
        {
          "output_type": "stream",
          "name": "stdout",
          "text": [
            "Requirement already satisfied: nltk in /usr/local/lib/python3.11/dist-packages (3.9.1)\n",
            "Requirement already satisfied: click in /usr/local/lib/python3.11/dist-packages (from nltk) (8.2.1)\n",
            "Requirement already satisfied: joblib in /usr/local/lib/python3.11/dist-packages (from nltk) (1.5.1)\n",
            "Requirement already satisfied: regex>=2021.8.3 in /usr/local/lib/python3.11/dist-packages (from nltk) (2024.11.6)\n",
            "Requirement already satisfied: tqdm in /usr/local/lib/python3.11/dist-packages (from nltk) (4.67.1)\n"
          ]
        }
      ]
    },
    {
      "cell_type": "code",
      "source": [
        "!pip install newspaper3k"
      ],
      "metadata": {
        "colab": {
          "base_uri": "https://localhost:8080/"
        },
        "id": "OxqKJCcJW1wp",
        "outputId": "3470a799-6b9f-44d5-f6c0-b93d88ddb3f3"
      },
      "execution_count": null,
      "outputs": [
        {
          "output_type": "stream",
          "name": "stdout",
          "text": [
            "Collecting newspaper3k\n",
            "  Downloading newspaper3k-0.2.8-py3-none-any.whl.metadata (11 kB)\n",
            "Requirement already satisfied: beautifulsoup4>=4.4.1 in /usr/local/lib/python3.11/dist-packages (from newspaper3k) (4.13.4)\n",
            "Requirement already satisfied: Pillow>=3.3.0 in /usr/local/lib/python3.11/dist-packages (from newspaper3k) (11.2.1)\n",
            "Requirement already satisfied: PyYAML>=3.11 in /usr/local/lib/python3.11/dist-packages (from newspaper3k) (6.0.2)\n",
            "Collecting cssselect>=0.9.2 (from newspaper3k)\n",
            "  Downloading cssselect-1.3.0-py3-none-any.whl.metadata (2.6 kB)\n",
            "Requirement already satisfied: lxml>=3.6.0 in /usr/local/lib/python3.11/dist-packages (from newspaper3k) (5.4.0)\n",
            "Requirement already satisfied: nltk>=3.2.1 in /usr/local/lib/python3.11/dist-packages (from newspaper3k) (3.9.1)\n",
            "Requirement already satisfied: requests>=2.10.0 in /usr/local/lib/python3.11/dist-packages (from newspaper3k) (2.32.3)\n",
            "Collecting feedparser>=5.2.1 (from newspaper3k)\n",
            "  Downloading feedparser-6.0.11-py3-none-any.whl.metadata (2.4 kB)\n",
            "Collecting tldextract>=2.0.1 (from newspaper3k)\n",
            "  Downloading tldextract-5.3.0-py3-none-any.whl.metadata (11 kB)\n",
            "Collecting feedfinder2>=0.0.4 (from newspaper3k)\n",
            "  Downloading feedfinder2-0.0.4.tar.gz (3.3 kB)\n",
            "  Preparing metadata (setup.py) ... \u001b[?25l\u001b[?25hdone\n",
            "Collecting jieba3k>=0.35.1 (from newspaper3k)\n",
            "  Downloading jieba3k-0.35.1.zip (7.4 MB)\n",
            "\u001b[2K     \u001b[90m━━━━━━━━━━━━━━━━━━━━━━━━━━━━━━━━━━━━━━━━\u001b[0m \u001b[32m7.4/7.4 MB\u001b[0m \u001b[31m48.6 MB/s\u001b[0m eta \u001b[36m0:00:00\u001b[0m\n",
            "\u001b[?25h  Preparing metadata (setup.py) ... \u001b[?25l\u001b[?25hdone\n",
            "Requirement already satisfied: python-dateutil>=2.5.3 in /usr/local/lib/python3.11/dist-packages (from newspaper3k) (2.9.0.post0)\n",
            "Collecting tinysegmenter==0.3 (from newspaper3k)\n",
            "  Downloading tinysegmenter-0.3.tar.gz (16 kB)\n",
            "  Preparing metadata (setup.py) ... \u001b[?25l\u001b[?25hdone\n",
            "Requirement already satisfied: soupsieve>1.2 in /usr/local/lib/python3.11/dist-packages (from beautifulsoup4>=4.4.1->newspaper3k) (2.7)\n",
            "Requirement already satisfied: typing-extensions>=4.0.0 in /usr/local/lib/python3.11/dist-packages (from beautifulsoup4>=4.4.1->newspaper3k) (4.14.0)\n",
            "Requirement already satisfied: six in /usr/local/lib/python3.11/dist-packages (from feedfinder2>=0.0.4->newspaper3k) (1.17.0)\n",
            "Collecting sgmllib3k (from feedparser>=5.2.1->newspaper3k)\n",
            "  Downloading sgmllib3k-1.0.0.tar.gz (5.8 kB)\n",
            "  Preparing metadata (setup.py) ... \u001b[?25l\u001b[?25hdone\n",
            "Requirement already satisfied: click in /usr/local/lib/python3.11/dist-packages (from nltk>=3.2.1->newspaper3k) (8.2.1)\n",
            "Requirement already satisfied: joblib in /usr/local/lib/python3.11/dist-packages (from nltk>=3.2.1->newspaper3k) (1.5.1)\n",
            "Requirement already satisfied: regex>=2021.8.3 in /usr/local/lib/python3.11/dist-packages (from nltk>=3.2.1->newspaper3k) (2024.11.6)\n",
            "Requirement already satisfied: tqdm in /usr/local/lib/python3.11/dist-packages (from nltk>=3.2.1->newspaper3k) (4.67.1)\n",
            "Requirement already satisfied: charset-normalizer<4,>=2 in /usr/local/lib/python3.11/dist-packages (from requests>=2.10.0->newspaper3k) (3.4.2)\n",
            "Requirement already satisfied: idna<4,>=2.5 in /usr/local/lib/python3.11/dist-packages (from requests>=2.10.0->newspaper3k) (3.10)\n",
            "Requirement already satisfied: urllib3<3,>=1.21.1 in /usr/local/lib/python3.11/dist-packages (from requests>=2.10.0->newspaper3k) (2.4.0)\n",
            "Requirement already satisfied: certifi>=2017.4.17 in /usr/local/lib/python3.11/dist-packages (from requests>=2.10.0->newspaper3k) (2025.6.15)\n",
            "Collecting requests-file>=1.4 (from tldextract>=2.0.1->newspaper3k)\n",
            "  Downloading requests_file-2.1.0-py2.py3-none-any.whl.metadata (1.7 kB)\n",
            "Requirement already satisfied: filelock>=3.0.8 in /usr/local/lib/python3.11/dist-packages (from tldextract>=2.0.1->newspaper3k) (3.18.0)\n",
            "Downloading newspaper3k-0.2.8-py3-none-any.whl (211 kB)\n",
            "\u001b[2K   \u001b[90m━━━━━━━━━━━━━━━━━━━━━━━━━━━━━━━━━━━━━━━━\u001b[0m \u001b[32m211.1/211.1 kB\u001b[0m \u001b[31m11.2 MB/s\u001b[0m eta \u001b[36m0:00:00\u001b[0m\n",
            "\u001b[?25hDownloading cssselect-1.3.0-py3-none-any.whl (18 kB)\n",
            "Downloading feedparser-6.0.11-py3-none-any.whl (81 kB)\n",
            "\u001b[2K   \u001b[90m━━━━━━━━━━━━━━━━━━━━━━━━━━━━━━━━━━━━━━━━\u001b[0m \u001b[32m81.3/81.3 kB\u001b[0m \u001b[31m4.1 MB/s\u001b[0m eta \u001b[36m0:00:00\u001b[0m\n",
            "\u001b[?25hDownloading tldextract-5.3.0-py3-none-any.whl (107 kB)\n",
            "\u001b[2K   \u001b[90m━━━━━━━━━━━━━━━━━━━━━━━━━━━━━━━━━━━━━━━━\u001b[0m \u001b[32m107.4/107.4 kB\u001b[0m \u001b[31m6.4 MB/s\u001b[0m eta \u001b[36m0:00:00\u001b[0m\n",
            "\u001b[?25hDownloading requests_file-2.1.0-py2.py3-none-any.whl (4.2 kB)\n",
            "Building wheels for collected packages: tinysegmenter, feedfinder2, jieba3k, sgmllib3k\n",
            "  Building wheel for tinysegmenter (setup.py) ... \u001b[?25l\u001b[?25hdone\n",
            "  Created wheel for tinysegmenter: filename=tinysegmenter-0.3-py3-none-any.whl size=13540 sha256=53b7a3e77019884f5d8b82defa4da14f0ab8fd06d53f150b4c46c59ee29be467\n",
            "  Stored in directory: /root/.cache/pip/wheels/fc/ab/f8/cce3a9ae6d828bd346be695f7ff54612cd22b7cbd7208d68f3\n",
            "  Building wheel for feedfinder2 (setup.py) ... \u001b[?25l\u001b[?25hdone\n",
            "  Created wheel for feedfinder2: filename=feedfinder2-0.0.4-py3-none-any.whl size=3341 sha256=df68187485e66f58f25a885001663ccbbe752ff7797ca02ccda2208cf44fa235\n",
            "  Stored in directory: /root/.cache/pip/wheels/80/d5/72/9cd9eccc819636436c6a6e59c22a0fb1ec167beef141f56491\n",
            "  Building wheel for jieba3k (setup.py) ... \u001b[?25l\u001b[?25hdone\n",
            "  Created wheel for jieba3k: filename=jieba3k-0.35.1-py3-none-any.whl size=7398380 sha256=856ba7a3895aba9e53cdf215bc4ec9a32fd8f53c61e022a1f693afd5553e357a\n",
            "  Stored in directory: /root/.cache/pip/wheels/3a/a1/46/8e68055c1713f9c4598774c15ad0541f26d5425ee7423b6493\n",
            "  Building wheel for sgmllib3k (setup.py) ... \u001b[?25l\u001b[?25hdone\n",
            "  Created wheel for sgmllib3k: filename=sgmllib3k-1.0.0-py3-none-any.whl size=6046 sha256=f6d0a5527a35ff5de247a323fdb9d222535d8b788e4dc3952616740b60c3d859\n",
            "  Stored in directory: /root/.cache/pip/wheels/3b/25/2a/105d6a15df6914f4d15047691c6c28f9052cc1173e40285d03\n",
            "Successfully built tinysegmenter feedfinder2 jieba3k sgmllib3k\n",
            "Installing collected packages: tinysegmenter, sgmllib3k, jieba3k, feedparser, cssselect, requests-file, feedfinder2, tldextract, newspaper3k\n",
            "Successfully installed cssselect-1.3.0 feedfinder2-0.0.4 feedparser-6.0.11 jieba3k-0.35.1 newspaper3k-0.2.8 requests-file-2.1.0 sgmllib3k-1.0.0 tinysegmenter-0.3 tldextract-5.3.0\n"
          ]
        }
      ]
    },
    {
      "cell_type": "code",
      "source": [
        "# Install required libraries\n",
        "!pip install newspaper3k textblob scikit-learn nltk\n"
      ],
      "metadata": {
        "colab": {
          "base_uri": "https://localhost:8080/"
        },
        "id": "wHPG01LJXi_F",
        "outputId": "996742eb-175e-4b96-8dcf-70efda610de5"
      },
      "execution_count": null,
      "outputs": [
        {
          "output_type": "stream",
          "name": "stdout",
          "text": [
            "Requirement already satisfied: newspaper3k in /usr/local/lib/python3.11/dist-packages (0.2.8)\n",
            "Requirement already satisfied: textblob in /usr/local/lib/python3.11/dist-packages (0.19.0)\n",
            "Requirement already satisfied: scikit-learn in /usr/local/lib/python3.11/dist-packages (1.6.1)\n",
            "Requirement already satisfied: nltk in /usr/local/lib/python3.11/dist-packages (3.9.1)\n",
            "Requirement already satisfied: beautifulsoup4>=4.4.1 in /usr/local/lib/python3.11/dist-packages (from newspaper3k) (4.13.4)\n",
            "Requirement already satisfied: Pillow>=3.3.0 in /usr/local/lib/python3.11/dist-packages (from newspaper3k) (11.2.1)\n",
            "Requirement already satisfied: PyYAML>=3.11 in /usr/local/lib/python3.11/dist-packages (from newspaper3k) (6.0.2)\n",
            "Requirement already satisfied: cssselect>=0.9.2 in /usr/local/lib/python3.11/dist-packages (from newspaper3k) (1.3.0)\n",
            "Requirement already satisfied: lxml>=3.6.0 in /usr/local/lib/python3.11/dist-packages (from newspaper3k) (5.4.0)\n",
            "Requirement already satisfied: requests>=2.10.0 in /usr/local/lib/python3.11/dist-packages (from newspaper3k) (2.32.3)\n",
            "Requirement already satisfied: feedparser>=5.2.1 in /usr/local/lib/python3.11/dist-packages (from newspaper3k) (6.0.11)\n",
            "Requirement already satisfied: tldextract>=2.0.1 in /usr/local/lib/python3.11/dist-packages (from newspaper3k) (5.3.0)\n",
            "Requirement already satisfied: feedfinder2>=0.0.4 in /usr/local/lib/python3.11/dist-packages (from newspaper3k) (0.0.4)\n",
            "Requirement already satisfied: jieba3k>=0.35.1 in /usr/local/lib/python3.11/dist-packages (from newspaper3k) (0.35.1)\n",
            "Requirement already satisfied: python-dateutil>=2.5.3 in /usr/local/lib/python3.11/dist-packages (from newspaper3k) (2.9.0.post0)\n",
            "Requirement already satisfied: tinysegmenter==0.3 in /usr/local/lib/python3.11/dist-packages (from newspaper3k) (0.3)\n",
            "Requirement already satisfied: numpy>=1.19.5 in /usr/local/lib/python3.11/dist-packages (from scikit-learn) (2.0.2)\n",
            "Requirement already satisfied: scipy>=1.6.0 in /usr/local/lib/python3.11/dist-packages (from scikit-learn) (1.15.3)\n",
            "Requirement already satisfied: joblib>=1.2.0 in /usr/local/lib/python3.11/dist-packages (from scikit-learn) (1.5.1)\n",
            "Requirement already satisfied: threadpoolctl>=3.1.0 in /usr/local/lib/python3.11/dist-packages (from scikit-learn) (3.6.0)\n",
            "Requirement already satisfied: click in /usr/local/lib/python3.11/dist-packages (from nltk) (8.2.1)\n",
            "Requirement already satisfied: regex>=2021.8.3 in /usr/local/lib/python3.11/dist-packages (from nltk) (2024.11.6)\n",
            "Requirement already satisfied: tqdm in /usr/local/lib/python3.11/dist-packages (from nltk) (4.67.1)\n",
            "Requirement already satisfied: soupsieve>1.2 in /usr/local/lib/python3.11/dist-packages (from beautifulsoup4>=4.4.1->newspaper3k) (2.7)\n",
            "Requirement already satisfied: typing-extensions>=4.0.0 in /usr/local/lib/python3.11/dist-packages (from beautifulsoup4>=4.4.1->newspaper3k) (4.14.0)\n",
            "Requirement already satisfied: six in /usr/local/lib/python3.11/dist-packages (from feedfinder2>=0.0.4->newspaper3k) (1.17.0)\n",
            "Requirement already satisfied: sgmllib3k in /usr/local/lib/python3.11/dist-packages (from feedparser>=5.2.1->newspaper3k) (1.0.0)\n",
            "Requirement already satisfied: charset-normalizer<4,>=2 in /usr/local/lib/python3.11/dist-packages (from requests>=2.10.0->newspaper3k) (3.4.2)\n",
            "Requirement already satisfied: idna<4,>=2.5 in /usr/local/lib/python3.11/dist-packages (from requests>=2.10.0->newspaper3k) (3.10)\n",
            "Requirement already satisfied: urllib3<3,>=1.21.1 in /usr/local/lib/python3.11/dist-packages (from requests>=2.10.0->newspaper3k) (2.4.0)\n",
            "Requirement already satisfied: certifi>=2017.4.17 in /usr/local/lib/python3.11/dist-packages (from requests>=2.10.0->newspaper3k) (2025.6.15)\n",
            "Requirement already satisfied: requests-file>=1.4 in /usr/local/lib/python3.11/dist-packages (from tldextract>=2.0.1->newspaper3k) (2.1.0)\n",
            "Requirement already satisfied: filelock>=3.0.8 in /usr/local/lib/python3.11/dist-packages (from tldextract>=2.0.1->newspaper3k) (3.18.0)\n"
          ]
        }
      ]
    },
    {
      "cell_type": "code",
      "source": [
        "!pip install lxml_html_clean\n"
      ],
      "metadata": {
        "colab": {
          "base_uri": "https://localhost:8080/"
        },
        "id": "jUIP6gFaX1ts",
        "outputId": "3df04d6b-b873-4794-f04e-631946ba36bc"
      },
      "execution_count": null,
      "outputs": [
        {
          "output_type": "stream",
          "name": "stdout",
          "text": [
            "Collecting lxml_html_clean\n",
            "  Downloading lxml_html_clean-0.4.2-py3-none-any.whl.metadata (2.4 kB)\n",
            "Requirement already satisfied: lxml in /usr/local/lib/python3.11/dist-packages (from lxml_html_clean) (5.4.0)\n",
            "Downloading lxml_html_clean-0.4.2-py3-none-any.whl (14 kB)\n",
            "Installing collected packages: lxml_html_clean\n",
            "Successfully installed lxml_html_clean-0.4.2\n"
          ]
        }
      ]
    },
    {
      "cell_type": "code",
      "source": [
        "#Import the libraries\n",
        "from newspaper import Article\n",
        "import random\n",
        "from textblob import TextBlob\n",
        "import nltk\n",
        "import string\n",
        "from sklearn.feature_extraction.text import CountVectorizer\n",
        "from sklearn.metrics.pairwise import cosine_similarity\n",
        "import numpy as np\n",
        "import warnings\n",
        "warnings.filterwarnings('ignore')"
      ],
      "metadata": {
        "id": "yPhZhJmbXDIw"
      },
      "execution_count": null,
      "outputs": []
    },
    {
      "cell_type": "code",
      "source": [
        "#Download the punk package\n",
        "nltk.download('punkt',quiet=True)"
      ],
      "metadata": {
        "colab": {
          "base_uri": "https://localhost:8080/"
        },
        "id": "tGfyWFiRX_bC",
        "outputId": "4680a735-81f3-48ab-a754-cf28bc20d93e"
      },
      "execution_count": null,
      "outputs": [
        {
          "output_type": "execute_result",
          "data": {
            "text/plain": [
              "True"
            ]
          },
          "metadata": {},
          "execution_count": 15
        }
      ]
    },
    {
      "cell_type": "code",
      "source": [
        "nltk.download('punkt')\n",
        "nltk.download('punkt_tab')\n"
      ],
      "metadata": {
        "colab": {
          "base_uri": "https://localhost:8080/"
        },
        "id": "yha5fjtzZbtU",
        "outputId": "2f5fa62d-981c-4d8d-e3a7-71133c42e47c"
      },
      "execution_count": null,
      "outputs": [
        {
          "output_type": "stream",
          "name": "stderr",
          "text": [
            "[nltk_data] Downloading package punkt to /root/nltk_data...\n",
            "[nltk_data]   Package punkt is already up-to-date!\n",
            "[nltk_data] Downloading package punkt_tab to /root/nltk_data...\n",
            "[nltk_data]   Unzipping tokenizers/punkt_tab.zip.\n"
          ]
        },
        {
          "output_type": "execute_result",
          "data": {
            "text/plain": [
              "True"
            ]
          },
          "metadata": {},
          "execution_count": 17
        }
      ]
    },
    {
      "cell_type": "code",
      "source": [
        "#Get the article\n",
        "article=Article('https://www.mayoclinic.org/diseases-conditions/leukemia/symptoms-causes/syc-20374373')\n",
        "article.download()\n",
        "article.parse()\n",
        "article.nlp()\n",
        "corpus=article.text"
      ],
      "metadata": {
        "id": "9zIBhEBbYQm8"
      },
      "execution_count": null,
      "outputs": []
    },
    {
      "cell_type": "code",
      "source": [
        "#Print the article text\n",
        "print(corpus)"
      ],
      "metadata": {
        "colab": {
          "base_uri": "https://localhost:8080/"
        },
        "id": "xfM3PG6UaZBl",
        "outputId": "3a78e00f-d39c-4094-d873-3125a4d908b5"
      },
      "execution_count": null,
      "outputs": [
        {
          "output_type": "stream",
          "name": "stdout",
          "text": [
            "Overview\n",
            "\n",
            "Leukemia is cancer of the body's blood-forming tissues, including the bone marrow and the lymphatic system.\n",
            "\n",
            "Many types of leukemia exist. Some forms of leukemia are more common in children. Other forms of leukemia occur mostly in adults.\n",
            "\n",
            "Leukemia usually involves the white blood cells. Your white blood cells are potent infection fighters — they normally grow and divide in an orderly way, as your body needs them. But in people with leukemia, the bone marrow produces an excessive amount of abnormal white blood cells, which don't function properly.\n",
            "\n",
            "Treatment for leukemia can be complex — depending on the type of leukemia and other factors. But there are strategies and resources that can help make your treatment successful.\n",
            "\n",
            "Dr. Rafael Fonseca, hematologist and Chief Innovation Officer at Mayo Clinic Call your preferred Mayo Clinic location: Arizona: Florida: Minnesota:\n",
            "\n",
            "Symptoms\n",
            "\n",
            "Leukemia symptoms vary, depending on the type of leukemia. Common leukemia signs and symptoms include:\n",
            "\n",
            "Fever or chills\n",
            "\n",
            "Persistent fatigue, weakness\n",
            "\n",
            "Frequent or severe infections\n",
            "\n",
            "Losing weight without trying\n",
            "\n",
            "Swollen lymph nodes, enlarged liver or spleen\n",
            "\n",
            "Easy bleeding or bruising\n",
            "\n",
            "Recurrent nosebleeds\n",
            "\n",
            "Tiny red spots in your skin (petechiae)\n",
            "\n",
            "Excessive sweating, especially at night\n",
            "\n",
            "Bone pain or tenderness\n",
            "\n",
            "When to see a doctor\n",
            "\n",
            "Make an appointment with your doctor if you have any persistent signs or symptoms that worry you.\n",
            "\n",
            "Leukemia symptoms are often vague and not specific. You may overlook early leukemia symptoms because they may resemble symptoms of the flu and other common illnesses.\n",
            "\n",
            "Sometimes leukemia is discovered during blood tests for some other condition.\n",
            "\n",
            "There is a problem with information submitted for this request. Review/update the information highlighted below and resubmit the form. From Mayo Clinic to your inbox Sign up for free and stay up to date on research advancements, health tips, current health topics, and expertise on managing health. Click here for an email preview. Email Address 1 ErrorEmail field is required ErrorInclude a valid email address Learn more about Mayo Clinic’s use of data. We use the data you provide to deliver you the content you requested. To provide you with the most relevant and helpful information, we may combine your email and website data with other information we have about you. If you are a Mayo Clinic patient, we will only use your protected health information as outlined in our Notice of Privacy Practices. You may opt out of email communications at any time by clicking on the unsubscribe link in the email. Subscribe! Thank you for subscribing! You'll soon start receiving the latest Mayo Clinic health information you requested in your inbox. Sorry something went wrong with your subscription Please, try again in a couple of minutes Retry\n",
            "\n",
            "Causes\n",
            "\n",
            "Parts of the immune system Enlarge image Close Parts of the immune system Parts of the immune system The lymphatic system is part of the body's immune system, which protects against infection and disease. The lymphatic system includes the spleen, thymus, lymph nodes and lymph channels, as well as the tonsils and adenoids.\n",
            "\n",
            "Scientists don't understand the exact causes of leukemia. It seems to develop from a combination of genetic and environmental factors.\n",
            "\n",
            "How leukemia forms\n",
            "\n",
            "In general, leukemia is thought to occur when some blood cells acquire changes (mutations) in their genetic material or DNA. A cell's DNA contains the instructions that tell a cell what to do. Normally, the DNA tells the cell to grow at a set rate and to die at a set time. In leukemia, the mutations tell the blood cells to continue growing and dividing.\n",
            "\n",
            "When this happens, blood cell production becomes out of control. Over time, these abnormal cells can crowd out healthy blood cells in the bone marrow, leading to fewer healthy white blood cells, red blood cells and platelets, causing the signs and symptoms of leukemia.\n",
            "\n",
            "How leukemia is classified\n",
            "\n",
            "Doctors classify leukemia based on its speed of progression and the type of cells involved.\n",
            "\n",
            "The first type of classification is by how fast the leukemia progresses:\n",
            "\n",
            "Acute leukemia. In acute leukemia, the abnormal blood cells are immature blood cells (blasts). They can't carry out their normal functions, and they multiply rapidly, so the disease worsens quickly. Acute leukemia requires aggressive, timely treatment.\n",
            "\n",
            "In acute leukemia, the abnormal blood cells are immature blood cells (blasts). They can't carry out their normal functions, and they multiply rapidly, so the disease worsens quickly. Acute leukemia requires aggressive, timely treatment. Chronic leukemia. There are many types of chronic leukemias. Some produce too many cells and some cause too few cells to be produced. Chronic leukemia involves more-mature blood cells. These blood cells replicate or accumulate more slowly and can function normally for a period of time. Some forms of chronic leukemia initially produce no early symptoms and can go unnoticed or undiagnosed for years.\n",
            "\n",
            "The second type of classification is by type of white blood cell affected:\n",
            "\n",
            "Lymphocytic leukemia. This type of leukemia affects the lymphoid cells (lymphocytes), which form lymphoid or lymphatic tissue. Lymphatic tissue makes up your immune system.\n",
            "\n",
            "This type of leukemia affects the lymphoid cells (lymphocytes), which form lymphoid or lymphatic tissue. Lymphatic tissue makes up your immune system. Myelogenous (my-uh-LOHJ-uh-nus) leukemia. This type of leukemia affects the myeloid cells. Myeloid cells give rise to red blood cells, white blood cells and platelet-producing cells.\n",
            "\n",
            "Types of leukemia\n",
            "\n",
            "The major types of leukemia are:\n",
            "\n",
            "Acute lymphocytic leukemia (ALL). This is the most common type of leukemia in young children. ALL can also occur in adults.\n",
            "\n",
            "This is the most common type of leukemia in young children. can also occur in adults. Acute myelogenous leukemia (AML). AML is a common type of leukemia. It occurs in children and adults. AML is the most common type of acute leukemia in adults.\n",
            "\n",
            "is a common type of leukemia. It occurs in children and adults. is the most common type of acute leukemia in adults. Chronic lymphocytic leukemia (CLL). With CLL , the most common chronic adult leukemia, you may feel well for years without needing treatment.\n",
            "\n",
            "With , the most common chronic adult leukemia, you may feel well for years without needing treatment. Chronic myelogenous leukemia (CML). This type of leukemia mainly affects adults. A person with CML may have few or no symptoms for months or years before entering a phase in which the leukemia cells grow more quickly.\n",
            "\n",
            "This type of leukemia mainly affects adults. A person with may have few or no symptoms for months or years before entering a phase in which the leukemia cells grow more quickly. Other types. Other, rarer types of leukemia exist, including hairy cell leukemia, myelodysplastic syndromes and myeloproliferative disorders.\n",
            "\n",
            "Risk factors\n",
            "\n",
            "Factors that may increase your risk of developing some types of leukemia include:\n",
            "\n",
            "Previous cancer treatment. People who've had certain types of chemotherapy and radiation therapy for other cancers have an increased risk of developing certain types of leukemia.\n",
            "\n",
            "People who've had certain types of chemotherapy and radiation therapy for other cancers have an increased risk of developing certain types of leukemia. Genetic disorders. Genetic abnormalities seem to play a role in the development of leukemia. Certain genetic disorders, such as Down syndrome, are associated with an increased risk of leukemia.\n",
            "\n",
            "Genetic abnormalities seem to play a role in the development of leukemia. Certain genetic disorders, such as Down syndrome, are associated with an increased risk of leukemia. Exposure to certain chemicals. Exposure to certain chemicals, such as benzene — which is found in gasoline and is used by the chemical industry — is linked to an increased risk of some kinds of leukemia.\n",
            "\n",
            "Exposure to certain chemicals, such as benzene — which is found in gasoline and is used by the chemical industry — is linked to an increased risk of some kinds of leukemia. Smoking. Smoking cigarettes increases the risk of acute myelogenous leukemia.\n",
            "\n",
            "Smoking cigarettes increases the risk of acute myelogenous leukemia. Family history of leukemia. If members of your family have been diagnosed with leukemia, your risk of the disease may be increased.\n",
            "\n",
            "However, most people with known risk factors don't get leukemia. And many people with leukemia have none of these risk factors.\n"
          ]
        }
      ]
    },
    {
      "cell_type": "code",
      "source": [
        "#Tokenization\n",
        "text=corpus\n",
        "sentence_list=nltk.sent_tokenize(text)\n",
        "#list of sentence\n",
        "print(sentence_list)"
      ],
      "metadata": {
        "colab": {
          "base_uri": "https://localhost:8080/"
        },
        "id": "6_z9GSg7afk2",
        "outputId": "819fbaeb-27ac-45b3-beb3-052d26a9afc5"
      },
      "execution_count": null,
      "outputs": [
        {
          "output_type": "stream",
          "name": "stdout",
          "text": [
            "[\"Overview\\n\\nLeukemia is cancer of the body's blood-forming tissues, including the bone marrow and the lymphatic system.\", 'Many types of leukemia exist.', 'Some forms of leukemia are more common in children.', 'Other forms of leukemia occur mostly in adults.', 'Leukemia usually involves the white blood cells.', 'Your white blood cells are potent infection fighters — they normally grow and divide in an orderly way, as your body needs them.', \"But in people with leukemia, the bone marrow produces an excessive amount of abnormal white blood cells, which don't function properly.\", 'Treatment for leukemia can be complex — depending on the type of leukemia and other factors.', 'But there are strategies and resources that can help make your treatment successful.', 'Dr. Rafael Fonseca, hematologist and Chief Innovation Officer at Mayo Clinic Call your preferred Mayo Clinic location: Arizona: Florida: Minnesota:\\n\\nSymptoms\\n\\nLeukemia symptoms vary, depending on the type of leukemia.', 'Common leukemia signs and symptoms include:\\n\\nFever or chills\\n\\nPersistent fatigue, weakness\\n\\nFrequent or severe infections\\n\\nLosing weight without trying\\n\\nSwollen lymph nodes, enlarged liver or spleen\\n\\nEasy bleeding or bruising\\n\\nRecurrent nosebleeds\\n\\nTiny red spots in your skin (petechiae)\\n\\nExcessive sweating, especially at night\\n\\nBone pain or tenderness\\n\\nWhen to see a doctor\\n\\nMake an appointment with your doctor if you have any persistent signs or symptoms that worry you.', 'Leukemia symptoms are often vague and not specific.', 'You may overlook early leukemia symptoms because they may resemble symptoms of the flu and other common illnesses.', 'Sometimes leukemia is discovered during blood tests for some other condition.', 'There is a problem with information submitted for this request.', 'Review/update the information highlighted below and resubmit the form.', 'From Mayo Clinic to your inbox Sign up for free and stay up to date on research advancements, health tips, current health topics, and expertise on managing health.', 'Click here for an email preview.', 'Email Address 1 ErrorEmail field is required ErrorInclude a valid email address Learn more about Mayo Clinic’s use of data.', 'We use the data you provide to deliver you the content you requested.', 'To provide you with the most relevant and helpful information, we may combine your email and website data with other information we have about you.', 'If you are a Mayo Clinic patient, we will only use your protected health information as outlined in our Notice of Privacy Practices.', 'You may opt out of email communications at any time by clicking on the unsubscribe link in the email.', 'Subscribe!', 'Thank you for subscribing!', \"You'll soon start receiving the latest Mayo Clinic health information you requested in your inbox.\", \"Sorry something went wrong with your subscription Please, try again in a couple of minutes Retry\\n\\nCauses\\n\\nParts of the immune system Enlarge image Close Parts of the immune system Parts of the immune system The lymphatic system is part of the body's immune system, which protects against infection and disease.\", 'The lymphatic system includes the spleen, thymus, lymph nodes and lymph channels, as well as the tonsils and adenoids.', \"Scientists don't understand the exact causes of leukemia.\", 'It seems to develop from a combination of genetic and environmental factors.', 'How leukemia forms\\n\\nIn general, leukemia is thought to occur when some blood cells acquire changes (mutations) in their genetic material or DNA.', \"A cell's DNA contains the instructions that tell a cell what to do.\", 'Normally, the DNA tells the cell to grow at a set rate and to die at a set time.', 'In leukemia, the mutations tell the blood cells to continue growing and dividing.', 'When this happens, blood cell production becomes out of control.', 'Over time, these abnormal cells can crowd out healthy blood cells in the bone marrow, leading to fewer healthy white blood cells, red blood cells and platelets, causing the signs and symptoms of leukemia.', 'How leukemia is classified\\n\\nDoctors classify leukemia based on its speed of progression and the type of cells involved.', 'The first type of classification is by how fast the leukemia progresses:\\n\\nAcute leukemia.', 'In acute leukemia, the abnormal blood cells are immature blood cells (blasts).', \"They can't carry out their normal functions, and they multiply rapidly, so the disease worsens quickly.\", 'Acute leukemia requires aggressive, timely treatment.', 'In acute leukemia, the abnormal blood cells are immature blood cells (blasts).', \"They can't carry out their normal functions, and they multiply rapidly, so the disease worsens quickly.\", 'Acute leukemia requires aggressive, timely treatment.', 'Chronic leukemia.', 'There are many types of chronic leukemias.', 'Some produce too many cells and some cause too few cells to be produced.', 'Chronic leukemia involves more-mature blood cells.', 'These blood cells replicate or accumulate more slowly and can function normally for a period of time.', 'Some forms of chronic leukemia initially produce no early symptoms and can go unnoticed or undiagnosed for years.', 'The second type of classification is by type of white blood cell affected:\\n\\nLymphocytic leukemia.', 'This type of leukemia affects the lymphoid cells (lymphocytes), which form lymphoid or lymphatic tissue.', 'Lymphatic tissue makes up your immune system.', 'This type of leukemia affects the lymphoid cells (lymphocytes), which form lymphoid or lymphatic tissue.', 'Lymphatic tissue makes up your immune system.', 'Myelogenous (my-uh-LOHJ-uh-nus) leukemia.', 'This type of leukemia affects the myeloid cells.', 'Myeloid cells give rise to red blood cells, white blood cells and platelet-producing cells.', 'Types of leukemia\\n\\nThe major types of leukemia are:\\n\\nAcute lymphocytic leukemia (ALL).', 'This is the most common type of leukemia in young children.', 'ALL can also occur in adults.', 'This is the most common type of leukemia in young children.', 'can also occur in adults.', 'Acute myelogenous leukemia (AML).', 'AML is a common type of leukemia.', 'It occurs in children and adults.', 'AML is the most common type of acute leukemia in adults.', 'is a common type of leukemia.', 'It occurs in children and adults.', 'is the most common type of acute leukemia in adults.', 'Chronic lymphocytic leukemia (CLL).', 'With CLL , the most common chronic adult leukemia, you may feel well for years without needing treatment.', 'With , the most common chronic adult leukemia, you may feel well for years without needing treatment.', 'Chronic myelogenous leukemia (CML).', 'This type of leukemia mainly affects adults.', 'A person with CML may have few or no symptoms for months or years before entering a phase in which the leukemia cells grow more quickly.', 'This type of leukemia mainly affects adults.', 'A person with may have few or no symptoms for months or years before entering a phase in which the leukemia cells grow more quickly.', 'Other types.', 'Other, rarer types of leukemia exist, including hairy cell leukemia, myelodysplastic syndromes and myeloproliferative disorders.', 'Risk factors\\n\\nFactors that may increase your risk of developing some types of leukemia include:\\n\\nPrevious cancer treatment.', \"People who've had certain types of chemotherapy and radiation therapy for other cancers have an increased risk of developing certain types of leukemia.\", \"People who've had certain types of chemotherapy and radiation therapy for other cancers have an increased risk of developing certain types of leukemia.\", 'Genetic disorders.', 'Genetic abnormalities seem to play a role in the development of leukemia.', 'Certain genetic disorders, such as Down syndrome, are associated with an increased risk of leukemia.', 'Genetic abnormalities seem to play a role in the development of leukemia.', 'Certain genetic disorders, such as Down syndrome, are associated with an increased risk of leukemia.', 'Exposure to certain chemicals.', 'Exposure to certain chemicals, such as benzene — which is found in gasoline and is used by the chemical industry — is linked to an increased risk of some kinds of leukemia.', 'Exposure to certain chemicals, such as benzene — which is found in gasoline and is used by the chemical industry — is linked to an increased risk of some kinds of leukemia.', 'Smoking.', 'Smoking cigarettes increases the risk of acute myelogenous leukemia.', 'Smoking cigarettes increases the risk of acute myelogenous leukemia.', 'Family history of leukemia.', 'If members of your family have been diagnosed with leukemia, your risk of the disease may be increased.', \"However, most people with known risk factors don't get leukemia.\", 'And many people with leukemia have none of these risk factors.']\n"
          ]
        }
      ]
    },
    {
      "cell_type": "code",
      "source": [
        "#Function to return a random greeting response to a string greeting\n",
        "def greeting_response(text):\n",
        "  text=text.lower()\n",
        "  #Bots greeting response\n",
        "  bot_greeting=['hello','hi','namaste','hola']\n",
        "  user_greeting=['hi','hey','namaste','hola']\n",
        "  for word in text.split():\n",
        "    if word in user_greeting:\n",
        "      return random.choice(bot_greeting)\n"
      ],
      "metadata": {
        "id": "lgs_tlq1auZ8"
      },
      "execution_count": null,
      "outputs": []
    },
    {
      "cell_type": "code",
      "source": [
        "def index_sort(list_var):\n",
        "  length=len(list_var)\n",
        "  list_index=list(range(0, length))\n",
        "  x=list_var\n",
        "  for i in range(length):\n",
        "    for j in range(length):\n",
        "      if x[list_index[i]]>x[list_index[j]]:\n",
        "        #swap\n",
        "        temp=list_index[i]\n",
        "        list_index[i]=list_index[j]\n",
        "        list_index[j]=temp\n",
        "  return list_index"
      ],
      "metadata": {
        "id": "QQldzxgMc6hA"
      },
      "execution_count": null,
      "outputs": []
    },
    {
      "cell_type": "code",
      "source": [
        "#Bot's response\n",
        "def bot_response(user_input):\n",
        "  user_input=user_input.lower()\n",
        "  sentence_list.append(user_input)\n",
        "  bot_response=''\n",
        "  cm=CountVectorizer().fit_transform(sentence_list)\n",
        "  similarity_scores=cosine_similarity(cm[-1],cm)\n",
        "  similarity_scores_list=similarity_scores.flatten()\n",
        "  index=index_sort(list(similarity_scores.flatten()))\n",
        "  index=index[1:]\n",
        "  response_flag=0\n",
        "  j=0\n",
        "  for i in range(len(index)):\n",
        "    if similarity_scores_list[index[i]]>0.0:\n",
        "      bot_response=bot_response+' '+sentence_list[index[i]]\n",
        "      response_flag=1\n",
        "      j=j+1\n",
        "    if j>2:\n",
        "      break\n",
        "    if response_flag==0:\n",
        "      bot_response=bot_response+' '+\"I apologize, I don't understand.\"\n",
        "    sentence_list.remove(user_input)\n",
        "    return bot_response"
      ],
      "metadata": {
        "id": "Yu3gTWm4bpev"
      },
      "execution_count": null,
      "outputs": []
    },
    {
      "cell_type": "code",
      "source": [
        "#Start the chat\n",
        "print('DocBot: I am Doctor Bot or DocBot for short. I will answer your queries about Chronic Kidney Disease. If you want to exit, type bye')\n",
        "exit_list=['exit','see you later','bye','quit','break']\n",
        "while(True):\n",
        "  user_input=input()\n",
        "  if user_input.lower() in exit_list:\n",
        "    print(\"Doc bot: chat with ypu later:\")\n",
        "    break\n",
        "  else:\n",
        "    if greeting_response(user_input)!=None:\n",
        "      print('Doc bot:', greeting_response(user_input))\n",
        "    else:\n",
        "      print('Doc bot:', bot_response(user_input))"
      ],
      "metadata": {
        "colab": {
          "base_uri": "https://localhost:8080/"
        },
        "id": "9ipulXz_d_r4",
        "outputId": "a007b70a-2910-4595-d085-714318aef5dc"
      },
      "execution_count": null,
      "outputs": [
        {
          "metadata": {
            "tags": null
          },
          "name": "stdout",
          "output_type": "stream",
          "text": [
            "DocBot: I am Doctor Bot or DocBot for short. I will answer your queries about Chronic Kidney Disease. If you want to exit, type bye\n",
            "Doc bot: hi\n",
            "Doc bot:  Acute myelogenous leukemia (AML).\n",
            "Doc bot:  The second type of classification is by type of white blood cell affected:\n",
            "\n",
            "Lymphocytic leukemia.\n",
            "Doc bot:  Other types.\n",
            "Doc bot:  I apologize, I don't understand.\n",
            "Doc bot:  The second type of classification is by type of white blood cell affected:\n",
            "\n",
            "Lymphocytic leukemia.\n",
            "Doc bot:  Types of leukemia\n",
            "\n",
            "The major types of leukemia are:\n",
            "\n",
            "Acute lymphocytic leukemia (ALL).\n",
            "Doc bot:  Types of leukemia\n",
            "\n",
            "The major types of leukemia are:\n",
            "\n",
            "Acute lymphocytic leukemia (ALL).\n",
            "Doc bot:  Sorry something went wrong with your subscription Please, try again in a couple of minutes Retry\n",
            "\n",
            "Causes\n",
            "\n",
            "Parts of the immune system Enlarge image Close Parts of the immune system Parts of the immune system The lymphatic system is part of the body's immune system, which protects against infection and disease.\n",
            "Doc bot:  Risk factors\n",
            "\n",
            "Factors that may increase your risk of developing some types of leukemia include:\n",
            "\n",
            "Previous cancer treatment.\n",
            "Doc bot:  Exposure to certain chemicals.\n",
            "Doc bot:  You may overlook early leukemia symptoms because they may resemble symptoms of the flu and other common illnesses.\n"
          ]
        }
      ]
    }
  ]
}