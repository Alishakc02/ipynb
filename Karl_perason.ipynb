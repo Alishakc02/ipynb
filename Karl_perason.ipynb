{
  "nbformat": 4,
  "nbformat_minor": 0,
  "metadata": {
    "colab": {
      "provenance": [],
      "authorship_tag": "ABX9TyP5Fi4x46BSXLDDn7f+ioEr",
      "include_colab_link": true
    },
    "kernelspec": {
      "name": "python3",
      "display_name": "Python 3"
    },
    "language_info": {
      "name": "python"
    }
  },
  "cells": [
    {
      "cell_type": "markdown",
      "metadata": {
        "id": "view-in-github",
        "colab_type": "text"
      },
      "source": [
        "<a href=\"https://colab.research.google.com/github/Alishakc02/ipynb/blob/main/Karl_perason.ipynb\" target=\"_parent\"><img src=\"https://colab.research.google.com/assets/colab-badge.svg\" alt=\"Open In Colab\"/></a>"
      ]
    },
    {
      "cell_type": "markdown",
      "source": [
        "\n",
        "\n",
        "```\n",
        "\n",
        "The Karl Pearson Correlation Coefficient (also known simply as Pearson's r) is a statistical measure that calculates the strength and direction of the linear relationship between two continuous variables.\n",
        "\n",
        "\n",
        "INTERPRETATION\n",
        "\n",
        "Value of r\tStrength of Correlation\tDirection\n",
        "+1\tPerfect\tPositive correlation\n",
        "0.7 to 0.99\tStrong\tPositive\n",
        "0.3 to 0.69\tModerate\tPositive\n",
        "0.0 to 0.29\tWeak\tPositive\n",
        "0\tNone\tNo correlation\n",
        "-0.3 to -0.69\tModerate\tNegative\n",
        "-0.7 to -0.99\tStrong\tNegative\n",
        "-1\tPerfect\tNegative correlation\n",
        "\n",
        "\n",
        "\n",
        "\n",
        "FORMULA:\n",
        "\n",
        "\n",
        "correlation coefficient =(Covarience(x,y))/ (Standard deviation of X * Standard deviation of Y)\n",
        "\n",
        "\n",
        "```\n",
        "\n"
      ],
      "metadata": {
        "id": "1hBLLYIFUwPv"
      }
    },
    {
      "cell_type": "code",
      "source": [
        "import matplotlib.pyplot as plt\n",
        "import seaborn as sbn\n",
        "import pandas as pd\n",
        "import numpy as np"
      ],
      "metadata": {
        "id": "RZIgfWU7YlFG"
      },
      "execution_count": null,
      "outputs": []
    },
    {
      "cell_type": "code",
      "source": [
        "from scipy.stats import pearsonr\n"
      ],
      "metadata": {
        "id": "qx6-Eu8CY_JB"
      },
      "execution_count": null,
      "outputs": []
    },
    {
      "cell_type": "markdown",
      "source": [
        "\n",
        "\n",
        "```\n",
        "Weight (kg)\tLength (cm)\n",
        "3.63\t53.1\n",
        "3.02\t49.7\n",
        "3.82\t48.4\n",
        "3.42\t54.2\n",
        "3.59\t54.9\n",
        "2.87\t43.7\n",
        "3.03\t47.2\n",
        "3.46\t45.2\n",
        "3.36\t54.4\n",
        "3.3\t50.4\n",
        "Find the correlation between them.(Karlpearson correlation coefficient)\n",
        "```\n",
        "\n"
      ],
      "metadata": {
        "id": "hm_07bVCcX_V"
      }
    },
    {
      "cell_type": "code",
      "source": [
        "#Load dataset\n",
        "\n",
        "weight=[3.63,\n",
        "3.02,\n",
        "3.82,\n",
        "3.42,\n",
        "3.59,\n",
        "2.87,\n",
        "3.03,\n",
        "3.46,\n",
        "3.36,\n",
        "3.3]\n",
        "\n",
        "length=[\t53.1, 49.7, 48.4, 54.2, 54.9, 43.7, 47.2, 45.2, 54.4, 50.4]\n",
        "# Calculate Pearson correlation coefficient\n",
        "r, p_value = pearsonr(weight, length)\n",
        "\n",
        "# Print result\n",
        "print(f\"Pearson correlation coefficient (r): {r:.2f}\")\n",
        "print(f\"P-value: {p_value:.4f}\")"
      ],
      "metadata": {
        "colab": {
          "base_uri": "https://localhost:8080/"
        },
        "id": "4DiIAUe4a4-I",
        "outputId": "4103a425-5d60-4731-f762-c32efda715a7"
      },
      "execution_count": null,
      "outputs": [
        {
          "output_type": "stream",
          "name": "stdout",
          "text": [
            "Pearson correlation coefficient (r): 0.47\n",
            "P-value: 0.1703\n"
          ]
        }
      ]
    },
    {
      "cell_type": "markdown",
      "source": [
        "\n",
        "\n",
        "```\n",
        "Significance level (α) = 0.05 (common threshold = 5%)\n",
        "If p-value < 0.05, we reject the null hypothesis → the correlation is statistically significant.\n",
        "If p-value > 0.05, we fail to reject the null hypothesis → the correlation might be due to chance.\n",
        "```\n",
        "\n"
      ],
      "metadata": {
        "id": "znjVwaC5cUgN"
      }
    },
    {
      "cell_type": "code",
      "source": [
        "#Second question\n",
        "\n",
        "mpg=[18,15,18, 16,17]\n",
        "weight1=[3504, 3693, 3436, 3433,3449]\n"
      ],
      "metadata": {
        "id": "ERf8DagZcjl5"
      },
      "execution_count": null,
      "outputs": []
    },
    {
      "cell_type": "code",
      "source": [
        "#Correlation and p_value\n",
        "r, p_value=pearsonr(mpg, weight1)\n",
        "print(f\"Pearson correlation coefficient (r):{r:.2f}\")\n",
        "print(f\"P-value:{p_value: .2f}\")\n"
      ],
      "metadata": {
        "colab": {
          "base_uri": "https://localhost:8080/"
        },
        "id": "qUHTK77UeN42",
        "outputId": "0dee2ea1-5219-409f-bebe-0859f0396085"
      },
      "execution_count": null,
      "outputs": [
        {
          "output_type": "stream",
          "name": "stdout",
          "text": [
            "Pearson correlation coefficient (r):-0.66\n",
            "P-value: 0.23\n"
          ]
        }
      ]
    },
    {
      "cell_type": "code",
      "source": [
        "#Interpretation\n",
        "#Value of r is -0.66 means it has moderate negative correlation with each other\n",
        "#Value of p is 0.23>0.05, it means we accept null hypothesis.\n",
        "#It will lead to the conclusion that there is relationship betwen mpg and weight1"
      ],
      "metadata": {
        "id": "E6xpKBBoetHQ"
      },
      "execution_count": null,
      "outputs": []
    },
    {
      "cell_type": "code",
      "source": [
        "import math\n",
        "from scipy.stats import pearsonr\n",
        "\n",
        "# Data\n",
        "weight = [3.63, 3.02, 3.82, 3.42, 3.59, 2.87, 3.03, 3.46, 3.36, 3.30]\n",
        "length = [53.1, 49.7, 48.4, 54.2, 54.9, 43.7, 47.2, 45.2, 54.4, 50.4]\n",
        "\n",
        "# Number of observations\n",
        "n = len(weight)\n",
        "\n",
        "# Pearson correlation coefficient\n",
        "r, p_value = pearsonr(weight, length)\n",
        "\n",
        "# Correct Probable Error (no sqrt on numerator)\n",
        "PE = 0.6745 * (1 - r**2) / math.sqrt(n)\n",
        "\n",
        "# Print results\n",
        "print(f\"Pearson correlation coefficient (r): {r:.4f}\")\n",
        "print(f\"P-value: {p_value:.4f}\")\n",
        "print(f\"Probable Error (PE): {PE:.4f}\")\n",
        "\n",
        "# Interpret result\n",
        "if r < PE:\n",
        "    print(\"The correlation is not significant.\")\n",
        "elif r > 6 * PE:\n",
        "    print(\"The correlation is highly significant.\")\n",
        "else:\n",
        "    print(\"The correlation is moderately significant.\")\n"
      ],
      "metadata": {
        "id": "580av6h_issD",
        "outputId": "28d35174-a1c0-4802-807e-87b58d51e345",
        "colab": {
          "base_uri": "https://localhost:8080/"
        }
      },
      "execution_count": null,
      "outputs": [
        {
          "output_type": "stream",
          "name": "stdout",
          "text": [
            "Pearson correlation coefficient (r): 0.4702\n",
            "P-value: 0.1703\n",
            "Probable Error (PE): 0.1661\n",
            "The correlation is moderately significant.\n"
          ]
        }
      ]
    }
  ]
}