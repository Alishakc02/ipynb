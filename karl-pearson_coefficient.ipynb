import matplotlib.pyplot as plt
import seaborn as sbn
import pandas as pd
import numpy as np
from scipy.stats import pearsonr
#Load dataset

weight=[3.63,
3.02,
3.82,
3.42,
3.59,
2.87,
3.03,
3.46,
3.36,
3.3]

length=[	53.1, 49.7, 48.4, 54.2, 54.9, 43.7, 47.2, 45.2, 54.4, 50.4]
# Calculate Pearson correlation coefficient
r, p_value = pearsonr(weight, length)

# Print result
print(f"Pearson correlation coefficient (r): {r:.2f}")
print(f"P-value: {p_value:.4f}")

#Second question

mpg=[18,15,18, 16,17]
weight1=[3504, 3693, 3436, 3433,3449]

#Correlation and p_value
r, p_value=pearsonr(mpg, weight1)
print(f"Pearson correlation coefficient (r):{r:.2f}")
print(f"P-value:{p_value: .2f}")

#Interpretation
#Value of r is -0.66 means it has moderate negative correlation with each other
#Value of p is 0.23>0.05, it means we accept null hypothesis.
#It will lead to the conclusion that there is relationship betwen mpg and weight1
